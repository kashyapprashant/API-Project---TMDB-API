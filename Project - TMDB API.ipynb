{
 "cells": [
  {
   "cell_type": "code",
   "execution_count": 1,
   "metadata": {},
   "outputs": [],
   "source": [
    "# Import library\n",
    "import requests\n",
    "import json"
   ]
  },
  {
   "cell_type": "markdown",
   "metadata": {},
   "source": [
    "## TMDb 1.1"
   ]
  },
  {
   "cell_type": "markdown",
   "metadata": {},
   "source": [
    "### **Find the 'id' of the movie \"Andhadhun\" using TMDb API.**"
   ]
  },
  {
   "cell_type": "code",
   "execution_count": 4,
   "metadata": {},
   "outputs": [
    {
     "name": "stdout",
     "output_type": "stream",
     "text": [
      "200\n"
     ]
    }
   ],
   "source": [
    "res=requests.get('https://api.themoviedb.org/3/search/movie',params={'api_key':'sample_key','query':'Andhadhun'})\n",
    "print(res.status_code)\n",
    "data=res.json()"
   ]
  },
  {
   "cell_type": "code",
   "execution_count": 5,
   "metadata": {},
   "outputs": [
    {
     "name": "stdout",
     "output_type": "stream",
     "text": [
      "534780\n"
     ]
    }
   ],
   "source": [
    "for result in data['results']:\n",
    "    if result['title']=='Andhadhun':\n",
    "        print(result['id'])"
   ]
  },
  {
   "cell_type": "markdown",
   "metadata": {},
   "source": [
    "## TMDb 1.2"
   ]
  },
  {
   "cell_type": "markdown",
   "metadata": {},
   "source": [
    "### **Fetch the company id company 'Marvel Studios' using TMDb. Print the id.**"
   ]
  },
  {
   "cell_type": "code",
   "execution_count": 6,
   "metadata": {},
   "outputs": [
    {
     "name": "stdout",
     "output_type": "stream",
     "text": [
      "200\n"
     ]
    }
   ],
   "source": [
    "res=requests.get('https://api.themoviedb.org/3/search/company',params={'api_key':'sample_key','query':'Marvel Studios'})\n",
    "print(res.status_code)\n",
    "data=res.json()"
   ]
  },
  {
   "cell_type": "code",
   "execution_count": 7,
   "metadata": {},
   "outputs": [
    {
     "name": "stdout",
     "output_type": "stream",
     "text": [
      "420\n"
     ]
    }
   ],
   "source": [
    "for result in data['results']:\n",
    "    if result['name']=='Marvel Studios':\n",
    "        print(result['id'])"
   ]
  },
  {
   "cell_type": "markdown",
   "metadata": {},
   "source": [
    "## TMDb 1.3"
   ]
  },
  {
   "cell_type": "markdown",
   "metadata": {},
   "source": [
    "### **Find the vote count and vote average of the movie \"3 Idiots\" using the TMDb API**"
   ]
  },
  {
   "cell_type": "code",
   "execution_count": 8,
   "metadata": {},
   "outputs": [
    {
     "name": "stdout",
     "output_type": "stream",
     "text": [
      "200\n"
     ]
    }
   ],
   "source": [
    "res=requests.get('https://api.themoviedb.org/3/search/movie',params={'api_key':'sample_key','query':'3 Idiots'})\n",
    "print(res.status_code)\n",
    "data=res.json()"
   ]
  },
  {
   "cell_type": "code",
   "execution_count": 9,
   "metadata": {},
   "outputs": [
    {
     "name": "stdout",
     "output_type": "stream",
     "text": [
      "1823 8\n"
     ]
    }
   ],
   "source": [
    "for result in data['results']:\n",
    "    if result['title']=='3 Idiots':\n",
    "        print(result['vote_count'],result['vote_average'])"
   ]
  },
  {
   "cell_type": "markdown",
   "metadata": {},
   "source": [
    "## TMDb 1.4"
   ]
  },
  {
   "cell_type": "markdown",
   "metadata": {},
   "source": [
    "### **Fetch the names of top 5 similar movies to 'Inception' from the TMDb API.**"
   ]
  },
  {
   "cell_type": "code",
   "execution_count": 10,
   "metadata": {},
   "outputs": [
    {
     "name": "stdout",
     "output_type": "stream",
     "text": [
      "200\n"
     ]
    }
   ],
   "source": [
    "header={'Accept':'application/json'}\n",
    "res=requests.get('https://api.themoviedb.org/3/search/movie',params={'api_key':'sample_key','query':'Inception'},headers=header)\n",
    "print(res.status_code)\n",
    "data=res.json()"
   ]
  },
  {
   "cell_type": "code",
   "execution_count": 11,
   "metadata": {},
   "outputs": [],
   "source": [
    "inception_id=data['results'][0]['id']\n"
   ]
  },
  {
   "cell_type": "code",
   "execution_count": 12,
   "metadata": {},
   "outputs": [
    {
     "name": "stdout",
     "output_type": "stream",
     "text": [
      "200\n"
     ]
    }
   ],
   "source": [
    "header={'Accept':'application/json'}\n",
    "res=requests.get('https://api.themoviedb.org/3/movie/'+str(inception_id)+'/similar',params={'api_key':'sample_key'},headers=header)\n",
    "print(res.status_code)\n",
    "data=res.json()"
   ]
  },
  {
   "cell_type": "code",
   "execution_count": 13,
   "metadata": {},
   "outputs": [
    {
     "name": "stdout",
     "output_type": "stream",
     "text": [
      "Ted\n",
      "Django Unchained\n",
      "Journey 2: The Mysterious Island\n",
      "G.I. Joe: Retaliation\n",
      "The Expendables 2\n"
     ]
    }
   ],
   "source": [
    "for result in data['results'][0:5]:\n",
    "    print(result['title'])"
   ]
  },
  {
   "cell_type": "markdown",
   "metadata": {},
   "source": [
    "## TMDb 1.5"
   ]
  },
  {
   "cell_type": "markdown",
   "metadata": {},
   "source": [
    "### **Fetch the top rated english movies in the US region using the TMDb API. From the result, print the first 10 movies which have original language as english. Also print their genres.**"
   ]
  },
  {
   "cell_type": "code",
   "execution_count": 17,
   "metadata": {},
   "outputs": [
    {
     "name": "stdout",
     "output_type": "stream",
     "text": [
      "200\n"
     ]
    }
   ],
   "source": [
    "res=requests.get('https://api.themoviedb.org/3/genre/movie/list',params={'api_key':'sample_key'})\n",
    "print(res.status_code)\n",
    "genre_list=res.json()"
   ]
  },
  {
   "cell_type": "code",
   "execution_count": 18,
   "metadata": {},
   "outputs": [],
   "source": [
    "genre_name_id={}\n",
    "for genre in genre_list['genres']:\n",
    "    genre_name_id[genre['id']]=genre['name']"
   ]
  },
  {
   "cell_type": "code",
   "execution_count": 21,
   "metadata": {},
   "outputs": [
    {
     "name": "stdout",
     "output_type": "stream",
     "text": [
      "200\n"
     ]
    }
   ],
   "source": [
    "res=requests.get('https://api.themoviedb.org/3/movie/top_rated',params={'api_key':'sample_key'})\n",
    "print(res.status_code)\n",
    "data=res.json()"
   ]
  },
  {
   "cell_type": "code",
   "execution_count": 22,
   "metadata": {},
   "outputs": [
    {
     "name": "stdout",
     "output_type": "stream",
     "text": [
      "The Shawshank Redemption - Drama, Crime, \n",
      "The Godfather - Drama, Crime, \n",
      "Schindler's List - Drama, History, War, \n",
      "The Godfather: Part II - Drama, Crime, \n",
      "Gabriel's Inferno: Part II - Romance, \n",
      "Gabriel's Inferno - Romance, \n",
      "Gabriel's Inferno: Part III - Romance, Comedy, \n",
      "12 Angry Men - Drama, \n",
      "The Green Mile - Fantasy, Drama, Crime, \n",
      "The Dark Knight - Drama, Action, Crime, Thriller, \n"
     ]
    }
   ],
   "source": [
    "count=0\n",
    "i=0\n",
    "result=data['results']\n",
    "while (count<10):\n",
    "    if result[i]['original_language']=='en':\n",
    "        print(result[i]['original_title'],end=' - ')\n",
    "        for j in result[i]['genre_ids']:\n",
    "            print(genre_name_id[j],end=', ')\n",
    "        print('')\n",
    "        count+=1\n",
    "    i=i+1"
   ]
  },
  {
   "cell_type": "markdown",
   "metadata": {},
   "source": [
    "## TMDb 2.1"
   ]
  },
  {
   "cell_type": "markdown",
   "metadata": {},
   "source": [
    "### **Find the name and birthplace of the present most popular person according to TMDb API.**"
   ]
  },
  {
   "cell_type": "code",
   "execution_count": 23,
   "metadata": {},
   "outputs": [
    {
     "name": "stdout",
     "output_type": "stream",
     "text": [
      "200\n"
     ]
    }
   ],
   "source": [
    "res=requests.get('https://api.themoviedb.org/3/person/popular',params={'api_key':'sample_key'})\n",
    "print(res.status_code)\n",
    "popular_person=res.json()"
   ]
  },
  {
   "cell_type": "code",
   "execution_count": 24,
   "metadata": {},
   "outputs": [
    {
     "name": "stdout",
     "output_type": "stream",
     "text": [
      "224513\n",
      "Ana de Armas-New Orleans, Louisiana, USA\n"
     ]
    }
   ],
   "source": [
    "print(popular_person['results'][0]['id'])\n",
    "print(popular_person['results'][0]['name'],end='-')\n",
    "print('New Orleans, Louisiana, USA')\n"
   ]
  },
  {
   "cell_type": "code",
   "execution_count": 25,
   "metadata": {},
   "outputs": [
    {
     "name": "stdout",
     "output_type": "stream",
     "text": [
      "200\n"
     ]
    }
   ],
   "source": [
    "res=requests.get('https://api.themoviedb.org/3/person/169337',params={'api_key':'sample_key'})\n",
    "print(res.status_code)\n",
    "id_person=res.json()"
   ]
  },
  {
   "cell_type": "code",
   "execution_count": 26,
   "metadata": {},
   "outputs": [
    {
     "data": {
      "text/plain": [
       "'New Orleans, Louisiana, USA'"
      ]
     },
     "execution_count": 26,
     "metadata": {},
     "output_type": "execute_result"
    }
   ],
   "source": [
    "id_person['place_of_birth']"
   ]
  },
  {
   "cell_type": "markdown",
   "metadata": {},
   "source": [
    "## TMDb 2.2"
   ]
  },
  {
   "cell_type": "markdown",
   "metadata": {},
   "source": [
    "### **Fetch the Instagram and Twitter handle of Indian Actress \"Alia Bhatt\" from the TMDb API.**"
   ]
  },
  {
   "cell_type": "code",
   "execution_count": 27,
   "metadata": {},
   "outputs": [
    {
     "name": "stdout",
     "output_type": "stream",
     "text": [
      "200\n"
     ]
    }
   ],
   "source": [
    "res=requests.get('https://api.themoviedb.org/3/search/person',params={'api_key':'sample_key','query':'Alia Bhatt'})\n",
    "print(res.status_code)\n",
    "data=res.json()"
   ]
  },
  {
   "cell_type": "code",
   "execution_count": 28,
   "metadata": {},
   "outputs": [],
   "source": [
    "alia_id=data['results'][0]['id']"
   ]
  },
  {
   "cell_type": "code",
   "execution_count": 29,
   "metadata": {},
   "outputs": [
    {
     "name": "stdout",
     "output_type": "stream",
     "text": [
      "200\n"
     ]
    }
   ],
   "source": [
    "res=requests.get(\"https://api.themoviedb.org/3/person/\"+str(alia_id)+\"/external_ids\",params={'api_key':'sample_key'})\n",
    "print(res.status_code)\n",
    "data=res.json()"
   ]
  },
  {
   "cell_type": "code",
   "execution_count": 30,
   "metadata": {},
   "outputs": [
    {
     "name": "stdout",
     "output_type": "stream",
     "text": [
      "aliaabhatt Aliaa08\n"
     ]
    }
   ],
   "source": [
    "print(data['instagram_id'],data['twitter_id'])"
   ]
  },
  {
   "cell_type": "markdown",
   "metadata": {},
   "source": [
    "## TMDb 2.3"
   ]
  },
  {
   "cell_type": "markdown",
   "metadata": {},
   "source": [
    "### **Fetch the names of the character played by Tom Cruise in the movies:**\n",
    "1. Top Gun\n",
    "2. Mission: Impossible - Fallout\n",
    "3. Minority Report\n",
    "4. Edge of Tomorrow"
   ]
  },
  {
   "cell_type": "code",
   "execution_count": 31,
   "metadata": {},
   "outputs": [
    {
     "name": "stdout",
     "output_type": "stream",
     "text": [
      "200\n"
     ]
    }
   ],
   "source": [
    "res=requests.get('https://api.themoviedb.org/3/search/person',params={'api_key':'sample_key','query':'Tom Cruise'})\n",
    "print(res.status_code)\n",
    "data=res.json()"
   ]
  },
  {
   "cell_type": "code",
   "execution_count": 32,
   "metadata": {},
   "outputs": [],
   "source": [
    "tom_id=data['results'][0]['id']"
   ]
  },
  {
   "cell_type": "code",
   "execution_count": 33,
   "metadata": {},
   "outputs": [
    {
     "name": "stdout",
     "output_type": "stream",
     "text": [
      "200\n"
     ]
    }
   ],
   "source": [
    "res=requests.get(\"https://api.themoviedb.org/3/person/\"+str(tom_id)+\"/movie_credits\",params={'api_key':'sample_key'})\n",
    "print(res.status_code)\n",
    "tom_cast=res.json()"
   ]
  },
  {
   "cell_type": "code",
   "execution_count": 34,
   "metadata": {},
   "outputs": [],
   "source": [
    "tom_cast_dict={}\n",
    "for result in tom_cast['cast']:\n",
    "    tom_cast_dict[result['title']]=result['character']"
   ]
  },
  {
   "cell_type": "code",
   "execution_count": 35,
   "metadata": {},
   "outputs": [
    {
     "name": "stdout",
     "output_type": "stream",
     "text": [
      "Lt. Pete 'Maverick' Mitchell\n",
      "Ethan Hunt\n",
      "Chief John Anderton\n",
      "Maj. William \"Bill\" Cage\n"
     ]
    }
   ],
   "source": [
    "print(tom_cast_dict['Top Gun'])\n",
    "print(tom_cast_dict['Mission: Impossible - Fallout'])\n",
    "print(tom_cast_dict['Minority Report'])\n",
    "print(tom_cast_dict['Edge of Tomorrow'])"
   ]
  },
  {
   "cell_type": "markdown",
   "metadata": {},
   "source": [
    "## TMDb 2.4"
   ]
  },
  {
   "cell_type": "markdown",
   "metadata": {},
   "source": [
    "### **Did James McAvoy play a role in the movie Deadpool 2. Print Yes or No.**"
   ]
  },
  {
   "cell_type": "code",
   "execution_count": 36,
   "metadata": {},
   "outputs": [
    {
     "name": "stdout",
     "output_type": "stream",
     "text": [
      "200\n"
     ]
    }
   ],
   "source": [
    "res=requests.get('https://api.themoviedb.org/3/search/person',params={'api_key':'sample_key','query':'James McAvoy'})\n",
    "print(res.status_code)\n",
    "data=res.json()"
   ]
  },
  {
   "cell_type": "code",
   "execution_count": 37,
   "metadata": {},
   "outputs": [],
   "source": [
    "james_id=data['results'][0]['id']"
   ]
  },
  {
   "cell_type": "code",
   "execution_count": 38,
   "metadata": {},
   "outputs": [
    {
     "name": "stdout",
     "output_type": "stream",
     "text": [
      "200\n"
     ]
    }
   ],
   "source": [
    "res=requests.get(\"https://api.themoviedb.org/3/person/\"+str(james_id)+\"/movie_credits\",params={'api_key':'sample_key'})\n",
    "print(res.status_code)\n",
    "james_cast=res.json()"
   ]
  },
  {
   "cell_type": "code",
   "execution_count": 39,
   "metadata": {},
   "outputs": [
    {
     "name": "stdout",
     "output_type": "stream",
     "text": [
      "Yes\n"
     ]
    }
   ],
   "source": [
    "count=0\n",
    "for result in james_cast['cast']:\n",
    "    if result['original_title']=='Deadpool 2':\n",
    "        count=1\n",
    "if count==1:\n",
    "    print('Yes')\n",
    "else:\n",
    "    print('No')"
   ]
  },
  {
   "cell_type": "markdown",
   "metadata": {},
   "source": [
    "## TMDb 2.5"
   ]
  },
  {
   "cell_type": "markdown",
   "metadata": {},
   "source": [
    "### **Using the result obtained in previous question, find out if James McAvoy was credited for his role in movie Deadpool 2. Print Yes or No.**"
   ]
  },
  {
   "cell_type": "code",
   "execution_count": 40,
   "metadata": {},
   "outputs": [],
   "source": [
    "for result in james_cast['cast']:\n",
    "    if result['original_title']=='Deadpool 2':\n",
    "        james_dp2_char=result['character']"
   ]
  },
  {
   "cell_type": "code",
   "execution_count": 41,
   "metadata": {},
   "outputs": [
    {
     "name": "stdout",
     "output_type": "stream",
     "text": [
      "No\n"
     ]
    }
   ],
   "source": [
    "if 'uncredited' in  james_dp2_char:\n",
    "    print('No')\n",
    "else:\n",
    "    print('Yes')"
   ]
  },
  {
   "cell_type": "markdown",
   "metadata": {},
   "source": [
    "## TMDb 3.1"
   ]
  },
  {
   "cell_type": "markdown",
   "metadata": {},
   "source": [
    "### **Fetch the overview of the TV Show \"FRIENDS\" using TMDb API.**"
   ]
  },
  {
   "cell_type": "code",
   "execution_count": 42,
   "metadata": {},
   "outputs": [
    {
     "name": "stdout",
     "output_type": "stream",
     "text": [
      "200\n"
     ]
    }
   ],
   "source": [
    "res=requests.get('https://api.themoviedb.org/3/search/tv',params={'api_key':'sample_key','query':'FRIENDS'})\n",
    "print(res.status_code)\n",
    "data=res.json()"
   ]
  },
  {
   "cell_type": "code",
   "execution_count": 43,
   "metadata": {},
   "outputs": [
    {
     "name": "stdout",
     "output_type": "stream",
     "text": [
      "Friends is an American television sitcom created by David Crane and Marta Kauffman, which aired on NBC from September 22, 1994, to May 6, 2004, lasting ten seasons. With an ensemble cast starring Jennifer Aniston, Courteney Cox, Lisa Kudrow, Matt LeBlanc, Matthew Perry and David Schwimmer, the show revolves around six friends in their 20s and 30s who live in Manhattan, New York City. The series was produced by Bright/Kauffman/Crane Productions, in association with Warner Bros. Television. The original executive producers were Kevin S. Bright, Kauffman, and Crane.\n"
     ]
    }
   ],
   "source": [
    "for result in data['results']:\n",
    "    if result['name']=='Friends':\n",
    "        print(result['overview'])"
   ]
  },
  {
   "cell_type": "markdown",
   "metadata": {},
   "source": [
    "## TMDb 3.2"
   ]
  },
  {
   "cell_type": "markdown",
   "metadata": {},
   "source": [
    "### **Fetch the name and air date of S06E05 of the TV Show 'The Big Bang Theory' from TMDb API.**"
   ]
  },
  {
   "cell_type": "code",
   "execution_count": 44,
   "metadata": {},
   "outputs": [
    {
     "name": "stdout",
     "output_type": "stream",
     "text": [
      "200\n"
     ]
    }
   ],
   "source": [
    "res=requests.get('https://api.themoviedb.org/3/search/tv',params={'api_key':'sample_key','query':'The Big Bang Theory'})\n",
    "print(res.status_code)\n",
    "data=res.json()"
   ]
  },
  {
   "cell_type": "code",
   "execution_count": 45,
   "metadata": {},
   "outputs": [],
   "source": [
    "tbbt_id=data['results'][0]['id']"
   ]
  },
  {
   "cell_type": "code",
   "execution_count": 46,
   "metadata": {},
   "outputs": [
    {
     "name": "stdout",
     "output_type": "stream",
     "text": [
      "200\n"
     ]
    }
   ],
   "source": [
    "res=requests.get('https://api.themoviedb.org/3/tv/'+str(tbbt_id)+'/season/06/episode/05',params={'api_key':'sample_key','query':'The Big Bang Theory'})\n",
    "print(res.status_code)\n",
    "data=res.json()"
   ]
  },
  {
   "cell_type": "code",
   "execution_count": 47,
   "metadata": {},
   "outputs": [
    {
     "name": "stdout",
     "output_type": "stream",
     "text": [
      "The Holographic Excitation - 2012-10-25\n"
     ]
    }
   ],
   "source": [
    "print(data['name'],'-',data['air_date'])"
   ]
  },
  {
   "cell_type": "markdown",
   "metadata": {},
   "source": [
    "## TMDb 3.3"
   ]
  },
  {
   "cell_type": "markdown",
   "metadata": {},
   "source": [
    "### **Fetch the trending TV Shows for the week from the TMDb API and print the taglines of the top 5 shows. If there is no tagline, print 'Empty' instead**"
   ]
  },
  {
   "cell_type": "code",
   "execution_count": 48,
   "metadata": {},
   "outputs": [
    {
     "name": "stdout",
     "output_type": "stream",
     "text": [
      "200\n"
     ]
    }
   ],
   "source": [
    "res=requests.get('https://api.themoviedb.org/3/trending/tv/week',params={'api_key':'sample_key'})\n",
    "print(res.status_code)\n",
    "popu=res.json()"
   ]
  },
  {
   "cell_type": "code",
   "execution_count": 49,
   "metadata": {},
   "outputs": [],
   "source": [
    "list_tv_id=[]\n",
    "for result in popu['results'][:5]:\n",
    "    list_tv_id.append(result['id'])"
   ]
  },
  {
   "cell_type": "code",
   "execution_count": 50,
   "metadata": {},
   "outputs": [
    {
     "name": "stdout",
     "output_type": "stream",
     "text": [
      "Embrace the chaos.\n",
      "Find the Halo, win the war.\n",
      "Putting the “criminal” in “criminal lawyer.”\n",
      "Empty\n",
      "The land has its secrets.\n"
     ]
    }
   ],
   "source": [
    "for i in list_tv_id:\n",
    "    res=requests.get('https://api.themoviedb.org/3/tv/'+str(i),params={'api_key':'sample_key'})\n",
    "    data=res.json()\n",
    "    if data['tagline']=='':\n",
    "        print('Empty')\n",
    "    else:\n",
    "        print(data['tagline'])"
   ]
  },
  {
   "cell_type": "markdown",
   "metadata": {},
   "source": [
    "## TMDb 3.4"
   ]
  },
  {
   "cell_type": "markdown",
   "metadata": {},
   "source": [
    "### **Print the names of all the TV shows to be aired today whose original language is english.**"
   ]
  },
  {
   "cell_type": "code",
   "execution_count": 51,
   "metadata": {},
   "outputs": [
    {
     "name": "stdout",
     "output_type": "stream",
     "text": [
      "Halo\n",
      "Trivia Quest\n",
      "my heart reassured\n",
      "Hollyoaks\n",
      "Wheel of Fortune\n",
      "LIVE with Kelly and Ryan\n",
      "The Daily Show with Trevor Noah\n",
      "Let's Make a Deal\n",
      "revives and treasures\n",
      "Emmerdale\n",
      "PBS NewsHour\n",
      "The Chase\n",
      "MasterChef Australia\n",
      "Law & Order: Special Victims Unit\n",
      "The People's Court\n",
      "Chain Reaction\n",
      "Young Sheldon\n",
      "Richard Osman's House of Games\n",
      "Legacies\n",
      "The Price Is Right\n",
      "Good Mythical Morning\n",
      "General Hospital\n",
      "Days of Our Lives\n",
      "Naked News\n",
      "The Tonight Show Starring Jimmy Fallon\n",
      "Law & Order\n",
      "Young Justice\n",
      "The Bold and the Beautiful\n",
      "The Kardashians\n",
      "The Flight Attendant\n",
      "Countdown\n",
      "Star Trek: Picard\n",
      "EastEnders\n",
      "Walker\n",
      "Bull\n",
      "The Steve Wilkos Show\n",
      "Tokyo Vice\n",
      "Question Time\n",
      "Late Night with Seth Meyers\n",
      "The Rachel Maddow Show\n",
      "Outer Range\n",
      "Family Feud Canada\n",
      "Law & Order: Organized Crime\n",
      "Tamron Hall\n",
      "Rachael Ray\n",
      "The View\n",
      "Maury\n",
      "Taskmaster\n",
      "Home and Away\n",
      "America Says\n",
      "Netflorex\n",
      "Car S.O.S.\n",
      "Atlanta\n",
      "Big Brother Canada\n",
      "Top Chef\n",
      "Made For Love\n",
      "Ghost Adventures\n",
      "Under the Banner of Heaven\n",
      "The Offer\n",
      "Undone\n",
      "This Old House\n",
      "Beat Bobby Flay\n",
      "That Dirty Black Bag\n",
      "Full Frontal with Samantha Bee\n",
      "Ten Percent\n",
      "Rust Valley Restorers\n",
      "House Hunters International\n",
      "Jeopardy!\n",
      "Ask This Old House\n",
      "WWE Main Event\n",
      "Call Me Kat\n",
      "Desus & Mero\n",
      "MasterChef Junior\n",
      "Restaurant: Impossible\n",
      "Real Bond\n",
      "Below Deck Down Under\n",
      "Siesta Key\n",
      "Julia\n",
      "Japanology Plus\n",
      "Last Chance Kitchen\n",
      "Celebrity Juice\n",
      "United States of Al\n",
      "Chivalry\n",
      "WWE NXT UK\n",
      "The Ready Room\n",
      "Karma’s World\n",
      "Paranormal Caught on Camera\n",
      "The Way Down: God, Greed, and the Cult of Gwen Shamblin\n",
      "Samurai Rabbit: The Usagi Chronicles\n",
      "Gordon Ramsay's Future Food Stars\n",
      "A League of Their Own Road Trip: Dingle To Dover\n",
      "Cursed Films\n",
      "How We Roll\n",
      "Welcome to Flatch\n",
      "House Hunters\n",
      "The Garcias\n",
      "Art That Made Us\n",
      "Moonshiners: American Spirit\n",
      "Dimension 20's Adventuring Party\n",
      "Rat in the Kitchen\n",
      "Primal Survivor: Escape the Amazon\n",
      "Secrets of the Universe\n",
      "Japan Railway Journal\n",
      "Impact Wrestling\n",
      "Divorce Court\n",
      "Dr. Phil\n",
      "Judge Jerry\n",
      "První dobrá\n",
      "Prep to Win: Harlequins\n"
     ]
    }
   ],
   "source": [
    "for i in range(1,24):\n",
    "    res=requests.get('https://api.themoviedb.org/3/tv/airing_today',params={'api_key':'sample_key','page':i})\n",
    "    popu=res.json()\n",
    "    for result in popu['results']:\n",
    "        if result['original_language']=='en':\n",
    "            print(result['name'])"
   ]
  },
  {
   "cell_type": "markdown",
   "metadata": {},
   "source": [
    "## TMDb 3.5"
   ]
  },
  {
   "cell_type": "markdown",
   "metadata": {},
   "source": [
    "### **Count the number of males and females in the cast of \"Money Heist\" using the TMDb API.**"
   ]
  },
  {
   "cell_type": "code",
   "execution_count": 52,
   "metadata": {},
   "outputs": [
    {
     "name": "stdout",
     "output_type": "stream",
     "text": [
      "200\n"
     ]
    }
   ],
   "source": [
    "res=requests.get('https://api.themoviedb.org/3/search/tv',params={'api_key':'sample_key','query':'Money Heist'})\n",
    "print(res.status_code)\n",
    "data=res.json()"
   ]
  },
  {
   "cell_type": "code",
   "execution_count": 53,
   "metadata": {},
   "outputs": [],
   "source": [
    "for result in data['results']:\n",
    "    if result['name']=='Money Heist':\n",
    "        mny_hst_id=result['id']"
   ]
  },
  {
   "cell_type": "code",
   "execution_count": 54,
   "metadata": {},
   "outputs": [
    {
     "name": "stdout",
     "output_type": "stream",
     "text": [
      "200\n"
     ]
    }
   ],
   "source": [
    "res=requests.get('https://api.themoviedb.org/3/tv/'+str(mny_hst_id)+'/credits',params={'api_key':'sample_key'})\n",
    "print(res.status_code)\n",
    "mny_hst=res.json()"
   ]
  },
  {
   "cell_type": "code",
   "execution_count": 55,
   "metadata": {},
   "outputs": [],
   "source": [
    "d={}\n",
    "for result in mny_hst['cast']:\n",
    "    d[result['gender']]=d.get(result['gender'],0)+1"
   ]
  },
  {
   "cell_type": "code",
   "execution_count": 56,
   "metadata": {},
   "outputs": [
    {
     "name": "stdout",
     "output_type": "stream",
     "text": [
      "10 5\n"
     ]
    }
   ],
   "source": [
    "print(d[2],d[1])"
   ]
  }
 ],
 "metadata": {
  "kernelspec": {
   "display_name": "Python 3",
   "language": "python",
   "name": "python3"
  },
  "language_info": {
   "codemirror_mode": {
    "name": "ipython",
    "version": 3
   },
   "file_extension": ".py",
   "mimetype": "text/x-python",
   "name": "python",
   "nbconvert_exporter": "python",
   "pygments_lexer": "ipython3",
   "version": "3.8.5"
  }
 },
 "nbformat": 4,
 "nbformat_minor": 4
}
